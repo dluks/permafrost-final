{
 "cells": [
  {
   "cell_type": "code",
   "execution_count": null,
   "metadata": {},
   "outputs": [],
   "source": [
    "import os\n",
    "import rasterio as rio\n",
    "from rasterio.enums import Resampling\n",
    "import matplotlib.pyplot as plt\n",
    "import numpy as np\n",
    "import glob\n",
    "\n",
    "def rescale_and_save(in_fn):\n",
    "    fn = in_fn.replace(\"10cm\", \"20cm\")\n",
    "    out_fn_rgb = fn.replace(\".tif\", \"_rgb.tif\")\n",
    "    out_fn_nir = fn.replace(\".tif\", \"_nir.tif\")\n",
    "    \n",
    "    if not os.path.exists(fn.split(\"/Ortho\")[0]):\n",
    "        os.makedirs(os.path.join(fn.split(\"/Ortho\")[0], \"Ortho\"))\n",
    "        \n",
    "    r =  rio.open(in_fn)\n",
    "    downscale_factor = 0.5\n",
    "    r_arr = r.read(\n",
    "        out_shape=(\n",
    "                r.count,\n",
    "                int(r.height * downscale_factor),\n",
    "                int(r.width * downscale_factor)\n",
    "            ),\n",
    "            resampling=Resampling.bilinear\n",
    "    )\n",
    "\n",
    "\n",
    "    type(r_arr)\n",
    "    # r_arr = np.moveaxis(r_arr, 0, -1)\n",
    "\n",
    "    for i in range(4):\n",
    "        max = r_arr[i].max()\n",
    "        r_arr[i] = (r_arr[i] / max) * 255\n",
    "    # r_arr = np.flip(r_arr[0:3, ...], axis=0)\n",
    "    R = r_arr[2].copy()\n",
    "    G = r_arr[1]\n",
    "    B = r_arr[0].copy()\n",
    "\n",
    "    r_arr[0] = R\n",
    "    r_arr[2] = B\n",
    "\n",
    "    # scale image transform\n",
    "    transform = r.transform * r.transform.scale(\n",
    "        (r.width / r_arr.shape[-1]),\n",
    "        (r.height / r_arr.shape[-2])\n",
    "    )\n",
    "\n",
    "    rgb_profile = r.profile.copy()\n",
    "    rgb_profile.update(\n",
    "        driver=\"GTiff\",\n",
    "        height=r_arr.shape[1],\n",
    "        width=r_arr.shape[2],\n",
    "        dtype=r_arr.dtype,\n",
    "        count=3,\n",
    "        transform=transform\n",
    "    )\n",
    "\n",
    "    nir_profile = rgb_profile.copy()\n",
    "    nir_profile.update(\n",
    "        count=1\n",
    "    )\n",
    "\n",
    "    new_rgb = rio.open(\n",
    "        out_fn_rgb,\n",
    "        'w',\n",
    "        **rgb_profile\n",
    "    )\n",
    "    new_nir = rio.open(\n",
    "        out_fn_nir,\n",
    "        'w',\n",
    "        **nir_profile\n",
    "    )\n",
    "    new_rgb.write(r_arr[0:3])\n",
    "    new_nir.write(np.expand_dims(r_arr[3], 0))"
   ]
  },
  {
   "cell_type": "code",
   "execution_count": null,
   "metadata": {},
   "outputs": [],
   "source": [
    "dirs = glob.glob(\"data/*10cm\")\n",
    "for dir in dirs[1:]:\n",
    "    fns = glob.glob(os.path.join(dir, \"Ortho/*.tif\"))\n",
    "    for fn in fns:\n",
    "        rescale_and_save(fn)"
   ]
  }
 ],
 "metadata": {
  "kernelspec": {
   "display_name": "rsiv",
   "language": "python",
   "name": "python3"
  },
  "language_info": {
   "codemirror_mode": {
    "name": "ipython",
    "version": 3
   },
   "file_extension": ".py",
   "mimetype": "text/x-python",
   "name": "python",
   "nbconvert_exporter": "python",
   "pygments_lexer": "ipython3",
   "version": "3.9.13"
  },
  "orig_nbformat": 4,
  "vscode": {
   "interpreter": {
    "hash": "71e688b954d902b4a55caabd51fbe36bd50a20d472e1a85360af90ed004984c7"
   }
  }
 },
 "nbformat": 4,
 "nbformat_minor": 2
}
