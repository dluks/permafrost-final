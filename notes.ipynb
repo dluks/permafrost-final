{
 "cells": [
  {
   "cell_type": "markdown",
   "metadata": {},
   "source": [
    "# Final Project: Notes\n",
    "### Lysander Rohringer & Daniel Lusk\n",
    "*OBS04: Permafrost Remote Sensing | WiSe 22-23*\n"
   ]
  },
  {
   "attachments": {},
   "cell_type": "markdown",
   "metadata": {},
   "source": [
    "### Prospective Methodology\n",
    "\n",
    "- Downsample images\n",
    "- Define village boundary polygons\n",
    "- Crop DSMs with village boundaries\n",
    "- Classes\n",
    "    - Buildings - 1\n",
    "    - Paved road - 2\n",
    "    - Unpaved road - 3\n",
    "    - Manmade water - 4\n",
    "    - Other - 5\n",
    "- Consider manual labeling or automated using height + NDVI(?)\n",
    "\n",
    "#### Labeling assignment\n",
    "- Kivalina & Kotzebue: Danny\n",
    "- Shishmaref & Shungnak/Kobuk: Lysander"
   ]
  },
  {
   "cell_type": "markdown",
   "metadata": {},
   "source": [
    "### Preliminary study site observations\n",
    "\n",
    "#### WA_Kivalina_01_20219703_10cm\n",
    "\n",
    "- WA_Kivalina_01_20219703_10cm_report.pdf states a study area of 0.0007 ha. This is very inconsistent with the observable extent.\n",
    "- Long, narrow island/peninsula."
   ]
  },
  {
   "cell_type": "code",
   "execution_count": null,
   "metadata": {},
   "outputs": [],
   "source": [
    "import numpy as np\n",
    "import rasterio as rio\n",
    "import matplotlib.pyplot as plt\n",
    "\n",
    "with rio.open(\"data/WA_Kivalina_01_20219703_10cm/Ortho/WA_Kivalina_01_20219703_10cm_Ortho_6_6.tif\") as r:\n",
    "    mask = r.dataset_mask\n",
    "    print(\"width:\", r.width)\n",
    "    print(\"height\", r.height)\n",
    "    print(\"affine\", r.transform)\n",
    "    # print(r.read().shape)\n",
    "    # Normalize\n",
    "    # im = np.moveaxis(r.read(), 0, -1)\n",
    "    # im = ((im - im.max()) / (im.max() - im.min()) * 255).astype(np.uint8)\n",
    "    # plt.imshow(im[..., :3])"
   ]
  },
  {
   "attachments": {},
   "cell_type": "markdown",
   "metadata": {},
   "source": [
    "## 2023-01-16\n",
    "\n",
    "### End of day To-Dos:\n",
    "- Fix bug in patch train label\n",
    "    - I think it has to do with a few of the files having abnormal sizes (e.g. 830x2500 instead of 2500x2500). Possible solution could be to get the most common size and then exclude images that don't match that size.\n",
    "\n",
    "### U-Net segmentation steps\n",
    "\n",
    "1. Remerge RGB and CIR and add NDVI channel\n",
    "2. Reorganize files into usable file structure\n",
    "    - orig_20cm\n",
    "        - {filename}\n",
    "            - rgbiv\n",
    "                - {filename}_rgbi.tif\n",
    "            - labels\n",
    "                - {filename}_labels.tif\n",
    "\n",
    "2. Patchify tiles into 256x256 patches, using the following file structure:\n",
    "    - 256_20cm\n",
    "        - {filename}\n",
    "            - rgbiv\n",
    "                - {filename}_rgbi.tif\n",
    "            - labels\n",
    "                - {filename}_labels.tif\n",
    "\n",
    "3. (Optional) Perform coarse grid search\n",
    "\n",
    "4. Run segmentation with all classes squashed to one\n",
    "\n",
    "5. Run segmentation with classes preserved"
   ]
  },
  {
   "attachments": {},
   "cell_type": "markdown",
   "metadata": {},
   "source": [
    "## 2023-01-17\n",
    "\n",
    "### End of day To-Dos:\n",
    "\n",
    "- Exclude patches with nodata in them\n",
    "- Confirm that IoU loss/setup is correct (look at old ML course files)\n",
    "- Try training on only a single class\n",
    "- Try including NIR + NDVI"
   ]
  }
 ],
 "metadata": {
  "kernelspec": {
   "display_name": "Python 3.9.13 ('rsiv')",
   "language": "python",
   "name": "python3"
  },
  "language_info": {
   "codemirror_mode": {
    "name": "ipython",
    "version": 3
   },
   "file_extension": ".py",
   "mimetype": "text/x-python",
   "name": "python",
   "nbconvert_exporter": "python",
   "pygments_lexer": "ipython3",
   "version": "3.9.13 | packaged by conda-forge | (main, May 27 2022, 17:00:52) \n[Clang 13.0.1 ]"
  },
  "orig_nbformat": 4,
  "vscode": {
   "interpreter": {
    "hash": "71e688b954d902b4a55caabd51fbe36bd50a20d472e1a85360af90ed004984c7"
   }
  }
 },
 "nbformat": 4,
 "nbformat_minor": 2
}
