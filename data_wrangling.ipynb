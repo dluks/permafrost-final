{
 "cells": [
  {
   "attachments": {},
   "cell_type": "markdown",
   "metadata": {},
   "source": [
    "# Data wrangling scripts"
   ]
  },
  {
   "attachments": {},
   "cell_type": "markdown",
   "metadata": {},
   "source": [
    "## Imports and function definitions"
   ]
  },
  {
   "cell_type": "code",
   "execution_count": 10,
   "metadata": {},
   "outputs": [],
   "source": [
    "import os\n",
    "import rasterio as rio\n",
    "from rasterio.enums import Resampling\n",
    "import matplotlib.pyplot as plt\n",
    "import numpy as np\n",
    "import glob\n",
    "import shutil\n",
    "import utils\n",
    "import tifffile as tiff\n",
    "\n",
    "%load_ext autoreload\n",
    "%autoreload 2\n",
    "\n",
    "def rescale_and_save(in_fn):\n",
    "    fn = in_fn.replace(\"10cm\", \"20cm\")\n",
    "    out_fn_rgb = fn.replace(\".tif\", \"_rgb.tif\")\n",
    "    out_fn_nir = fn.replace(\".tif\", \"_nir.tif\")\n",
    "    \n",
    "    if not os.path.exists(fn.split(\"/Ortho\")[0]):\n",
    "        os.makedirs(os.path.join(fn.split(\"/Ortho\")[0], \"Ortho\"))\n",
    "        \n",
    "    r =  rio.open(in_fn)\n",
    "    downscale_factor = 0.5\n",
    "    r_arr = r.read(\n",
    "        out_shape=(\n",
    "                r.count,\n",
    "                int(r.height * downscale_factor),\n",
    "                int(r.width * downscale_factor)\n",
    "            ),\n",
    "            resampling=Resampling.bilinear\n",
    "    )\n",
    "\n",
    "\n",
    "    type(r_arr)\n",
    "    # r_arr = np.moveaxis(r_arr, 0, -1)\n",
    "\n",
    "    for i in range(4):\n",
    "        max = r_arr[i].max()\n",
    "        r_arr[i] = (r_arr[i] / max) * 255\n",
    "    # r_arr = np.flip(r_arr[0:3, ...], axis=0)\n",
    "    R = r_arr[2].copy()\n",
    "    G = r_arr[1]\n",
    "    B = r_arr[0].copy()\n",
    "\n",
    "    r_arr[0] = R\n",
    "    r_arr[2] = B\n",
    "\n",
    "    # scale image transform\n",
    "    transform = r.transform * r.transform.scale(\n",
    "        (r.width / r_arr.shape[-1]),\n",
    "        (r.height / r_arr.shape[-2])\n",
    "    )\n",
    "\n",
    "    rgb_profile = r.profile.copy()\n",
    "    rgb_profile.update(\n",
    "        driver=\"GTiff\",\n",
    "        height=r_arr.shape[1],\n",
    "        width=r_arr.shape[2],\n",
    "        dtype=r_arr.dtype,\n",
    "        count=3,\n",
    "        transform=transform\n",
    "    )\n",
    "\n",
    "    nir_profile = rgb_profile.copy()\n",
    "    nir_profile.update(\n",
    "        count=1\n",
    "    )\n",
    "\n",
    "    new_rgb = rio.open(\n",
    "        out_fn_rgb,\n",
    "        'w',\n",
    "        **rgb_profile\n",
    "    )\n",
    "    new_nir = rio.open(\n",
    "        out_fn_nir,\n",
    "        'w',\n",
    "        **nir_profile\n",
    "    )\n",
    "    new_rgb.write(r_arr[0:3])\n",
    "    new_nir.write(np.expand_dims(r_arr[3], 0))"
   ]
  },
  {
   "attachments": {},
   "cell_type": "markdown",
   "metadata": {},
   "source": [
    "## Downsample 10 cm files to 20 cm with radiometric rescaling and save"
   ]
  },
  {
   "cell_type": "code",
   "execution_count": null,
   "metadata": {},
   "outputs": [],
   "source": [
    "RESCALE = False\n",
    "\n",
    "if RESCALE:\n",
    "    dirs = glob.glob(\"data/*10cm\")\n",
    "    for dir in dirs[1:]:\n",
    "        fns = glob.glob(os.path.join(dir, \"Ortho/*.tif\"))\n",
    "        for fn in fns:\n",
    "            rescale_and_save(fn)"
   ]
  },
  {
   "attachments": {},
   "cell_type": "markdown",
   "metadata": {},
   "source": [
    "## Reorganize files\n",
    "\n",
    "Desired file structure:\n",
    "- {location}\n",
    "    - {resolution}\n",
    "        - Ortho\n",
    "            - {tilename}\n",
    "                - rgb\n",
    "                    - {tilename}_rgb.tif\n",
    "                - cir\n",
    "                    - {tilename}_cir.tif\n",
    "                - labels\n",
    "                    - {tilename}_labels.tif"
   ]
  },
  {
   "cell_type": "code",
   "execution_count": 12,
   "metadata": {},
   "outputs": [],
   "source": [
    "REORGANIZE = False\n",
    "\n",
    "if REORGANIZE:\n",
    "\n",
    "    DATA_DIR = \"data\"\n",
    "    IM_DIRS = [\"rgb\", \"nir\", \"labels\"]\n",
    "    dirs = glob.glob(f\"{DATA_DIR}/*\")\n",
    "    tilenames = []\n",
    "\n",
    "    for dir in dirs:\n",
    "        dir = os.path.join(dir, \"20cm/Ortho\")\n",
    "        files = glob.glob(f\"{dir}/*.tif\")\n",
    "        \n",
    "        for file in files:\n",
    "            # Get the tilename\n",
    "            tilename = os.path.basename(file).rsplit(\"_\", 1)[0]\n",
    "            tile_dir = os.path.join(dir, tilename)\n",
    "\n",
    "            if not os.path.exists(tile_dir):\n",
    "                # Create the tile directory and subdirectories\n",
    "                # shutil.rmtree(tile_dir)\n",
    "                os.mkdir(tile_dir)\n",
    "                for im_dir in IM_DIRS:\n",
    "                    os.mkdir(os.path.join(tile_dir, im_dir))\n",
    "            \n",
    "            for im_dir in IM_DIRS:\n",
    "                if file.endswith(f\"{im_dir}.tif\"):\n",
    "                    shutil.move(file, os.path.join(tile_dir, im_dir))\n",
    "        "
   ]
  },
  {
   "attachments": {},
   "cell_type": "markdown",
   "metadata": {},
   "source": [
    "## Sandbox for aggregating and patchifying\n"
   ]
  },
  {
   "cell_type": "code",
   "execution_count": 7,
   "metadata": {},
   "outputs": [],
   "source": [
    "data_dir = \"data/WA_Kivalina_01_20219703/20cm/Ortho\"\n",
    "dirs = glob.glob(f\"{data_dir}/*\")\n",
    "IM_DIRS = [\"rgb\", \"nir\", \"labels\"]\n",
    "rgb_fns, nir_fns, label_fns = [], [], []\n",
    "\n",
    "for dir in dirs:\n",
    "    rgb = glob.glob(f\"{dir}/rgb/*.tif\")[0]\n",
    "    nir = glob.glob(f\"{dir}/nir/*.tif\")[0]\n",
    "    labels = glob.glob(f\"{dir}/labels/*.tif\")[0]\n",
    "    rgb_fns.append(rgb)\n",
    "    nir_fns.append(nir)\n",
    "    label_fns.append(labels)"
   ]
  },
  {
   "cell_type": "code",
   "execution_count": 45,
   "metadata": {},
   "outputs": [],
   "source": [
    "k = 0\n",
    "rgb_im = tiff.imread(rgb_fns[k])\n",
    "# nir_im = np.expand_dims(tiff.imread(nir_fns[k]), -1)\n",
    "r = np.dstack((rgb_im, nir_im))"
   ]
  },
  {
   "cell_type": "code",
   "execution_count": 64,
   "metadata": {},
   "outputs": [
    {
     "data": {
      "text/plain": [
       "array([[  0,   0,   0, ...,   0,   0,   0],\n",
       "       [  0,   0,   0, ...,   0,   0,   0],\n",
       "       [  0,   0,   0, ...,   0,   0,   0],\n",
       "       ...,\n",
       "       [  0,   0,   0, ..., 150, 152, 152],\n",
       "       [  0,   0,   0, ..., 145, 149, 151],\n",
       "       [  0,   0,   0, ..., 143, 147, 149]], dtype=uint16)"
      ]
     },
     "execution_count": 64,
     "metadata": {},
     "output_type": "execute_result"
    }
   ],
   "source": [
    "# Allow division by zero\n",
    "np.seterr(divide=\"ignore\", invalid=\"ignore\")\n",
    "r = r.astype(np.float64)\n",
    "ndvi = (r[..., -1] - r[..., 0]) / (r[..., -1] + r[..., 0])\n",
    "ndvi[np.isnan(ndvi)] = -1\n",
    "ndvi = (((ndvi - ndvi.min()) / (ndvi.max() - ndvi.min())) * 255).astype(np.uint16)\n",
    "ndvi\n"
   ]
  },
  {
   "cell_type": "code",
   "execution_count": 48,
   "metadata": {},
   "outputs": [],
   "source": [
    "labels = tiff.imread(label_fns[k])"
   ]
  },
  {
   "cell_type": "code",
   "execution_count": 72,
   "metadata": {},
   "outputs": [
    {
     "name": "stdout",
     "output_type": "stream",
     "text": [
      "RGB: (2500, 2500, 3) \n",
      "Labels: (2500, 2501)\n",
      "RGB: (2500, 2500, 3) \n",
      "Labels: (2500, 2500)\n",
      "RGB: (2500, 2500, 3) \n",
      "Labels: (2500, 2500)\n",
      "RGB: (2500, 2500, 3) \n",
      "Labels: (2500, 2500)\n",
      "RGB: (2500, 2500, 3) \n",
      "Labels: (2500, 2500)\n",
      "RGB: (2500, 2500, 3) \n",
      "Labels: (2500, 2500)\n",
      "RGB: (2500, 2500, 3) \n",
      "Labels: (2500, 2500)\n",
      "RGB: (2500, 2500, 3) \n",
      "Labels: (2500, 2500)\n",
      "RGB: (2500, 2500, 3) \n",
      "Labels: (2500, 2500)\n",
      "RGB: (2500, 2500, 3) \n",
      "Labels: (2500, 2500)\n",
      "RGB: (2500, 2500, 3) \n",
      "Labels: (2500, 2500)\n",
      "RGB: (2500, 2500, 3) \n",
      "Labels: (2500, 2500)\n",
      "RGB: (2500, 2500, 3) \n",
      "Labels: (2500, 2500)\n",
      "RGB: (2500, 2500, 3) \n",
      "Labels: (2500, 2500)\n",
      "RGB: (2500, 2500, 3) \n",
      "Labels: (2500, 2500)\n",
      "RGB: (2500, 2500, 3) \n",
      "Labels: (2500, 2500)\n",
      "RGB: (2500, 2500, 3) \n",
      "Labels: (2500, 2500)\n",
      "RGB: (2500, 2500, 3) \n",
      "Labels: (2500, 2500)\n",
      "RGB: (2500, 2500, 3) \n",
      "Labels: (2500, 2500)\n",
      "RGB: (2500, 2500, 3) \n",
      "Labels: (2500, 2500)\n",
      "RGB: (2500, 2500, 3) \n",
      "Labels: (2500, 2500)\n",
      "RGB: (2060, 2500, 3) \n",
      "Labels: (2060, 2500)\n",
      "RGB: (2500, 830, 3) \n",
      "Labels: (2500, 830)\n"
     ]
    }
   ],
   "source": [
    "for i in range(len(rgb_fns)):\n",
    "    im = tiff.imread(rgb_fns[i])\n",
    "    labels = tiff.imread(label_fns[i])\n",
    "    print(\"RGB:\", im.shape, \"\\nLabels:\", labels.shape)"
   ]
  },
  {
   "cell_type": "code",
   "execution_count": 69,
   "metadata": {},
   "outputs": [
    {
     "name": "stdout",
     "output_type": "stream",
     "text": [
      "Number of directories: 23\n",
      "RGB size: 23\n",
      "Labels size: 23\n"
     ]
    },
    {
     "ename": "ValueError",
     "evalue": "could not broadcast input array from shape (72,256,256,3) into shape (81,256,256,3)",
     "output_type": "error",
     "traceback": [
      "\u001b[0;31m---------------------------------------------------------------------------\u001b[0m",
      "\u001b[0;31mValueError\u001b[0m                                Traceback (most recent call last)",
      "Cell \u001b[0;32mIn [69], line 1\u001b[0m\n\u001b[0;32m----> 1\u001b[0m X_train, y_train, X_test, y_test \u001b[39m=\u001b[39m utils\u001b[39m.\u001b[39;49mprep_data(\u001b[39m\"\u001b[39;49m\u001b[39mdata/WA_Kivalina_01_20219703/20cm/Ortho\u001b[39;49m\u001b[39m\"\u001b[39;49m, include_nir\u001b[39m=\u001b[39;49m\u001b[39mFalse\u001b[39;49;00m, add_ndvi\u001b[39m=\u001b[39;49m\u001b[39mFalse\u001b[39;49;00m, squash\u001b[39m=\u001b[39;49m\u001b[39mTrue\u001b[39;49;00m)\n",
      "File \u001b[0;32m/Volumes/Toshiba External HDD 1TB/projects/uni-potsdam/wi22-23/obs04_permafrost/final_project/utils.py:168\u001b[0m, in \u001b[0;36mprep_data\u001b[0;34m(data_dir, seed, include_nir, add_ndvi, squash, patch_size)\u001b[0m\n\u001b[1;32m    159\u001b[0m     data_train, data_label \u001b[39m=\u001b[39m patch_train_label(\n\u001b[1;32m    160\u001b[0m         rgb_fns,\n\u001b[1;32m    161\u001b[0m         label_fns,\n\u001b[0;32m   (...)\u001b[0m\n\u001b[1;32m    165\u001b[0m         squash\u001b[39m=\u001b[39msquash,\n\u001b[1;32m    166\u001b[0m     )\n\u001b[1;32m    167\u001b[0m \u001b[39melse\u001b[39;00m:\n\u001b[0;32m--> 168\u001b[0m     data_train, data_label \u001b[39m=\u001b[39m patch_train_label(\n\u001b[1;32m    169\u001b[0m         rgb_fns, label_fns, patch_size, channels\u001b[39m=\u001b[39;49m\u001b[39m3\u001b[39;49m, squash\u001b[39m=\u001b[39;49msquash\n\u001b[1;32m    170\u001b[0m     )\n\u001b[1;32m    172\u001b[0m X_train, X_test, y_train, y_test \u001b[39m=\u001b[39m train_test_split(\n\u001b[1;32m    173\u001b[0m     data_train,\n\u001b[1;32m    174\u001b[0m     data_label,\n\u001b[0;32m   (...)\u001b[0m\n\u001b[1;32m    177\u001b[0m     random_state\u001b[39m=\u001b[39mseed,\n\u001b[1;32m    178\u001b[0m )\n\u001b[1;32m    180\u001b[0m \u001b[39mprint\u001b[39m(\n\u001b[1;32m    181\u001b[0m     \u001b[39mf\u001b[39m\u001b[39m\"\u001b[39m\u001b[39m\\n\u001b[39;00m\u001b[39mDataset sizes:\u001b[39m\u001b[39m\\n\u001b[39;00m\u001b[39m\\\u001b[39;00m\n\u001b[1;32m    182\u001b[0m \u001b[39mX_train: \u001b[39m\u001b[39m{\u001b[39;00mX_train\u001b[39m.\u001b[39mshape\u001b[39m}\u001b[39;00m\u001b[39m\\n\u001b[39;00m\u001b[39m\\\u001b[39;00m\n\u001b[0;32m   (...)\u001b[0m\n\u001b[1;32m    185\u001b[0m \u001b[39my_test: \u001b[39m\u001b[39m{\u001b[39;00my_test\u001b[39m.\u001b[39mshape\u001b[39m}\u001b[39;00m\u001b[39m\"\u001b[39m\n\u001b[1;32m    186\u001b[0m )\n",
      "File \u001b[0;32m/Volumes/Toshiba External HDD 1TB/projects/uni-potsdam/wi22-23/obs04_permafrost/final_project/utils.py:106\u001b[0m, in \u001b[0;36mpatch_train_label\u001b[0;34m(rgb_fns, label_fns, img_size, channels, merge_channel, add_ndvi, squash)\u001b[0m\n\u001b[1;32m    100\u001b[0m     patches_train \u001b[39m=\u001b[39m patchify(\n\u001b[1;32m    101\u001b[0m         r,\n\u001b[1;32m    102\u001b[0m         (img_size, img_size, channels),\n\u001b[1;32m    103\u001b[0m         step\u001b[39m=\u001b[39mimg_size,\n\u001b[1;32m    104\u001b[0m     )\n\u001b[1;32m    105\u001b[0m     patches_label \u001b[39m=\u001b[39m patchify(labels, (img_size, img_size), step\u001b[39m=\u001b[39mimg_size)\n\u001b[0;32m--> 106\u001b[0m     data_train[k \u001b[39m*\u001b[39;49m m : (k \u001b[39m+\u001b[39;49m \u001b[39m1\u001b[39;49m) \u001b[39m*\u001b[39;49m m, :, :, :] \u001b[39m=\u001b[39m patches_train\u001b[39m.\u001b[39mreshape(\n\u001b[1;32m    107\u001b[0m         \u001b[39m-\u001b[39m\u001b[39m1\u001b[39m, img_size, img_size, channels\n\u001b[1;32m    108\u001b[0m     )\n\u001b[1;32m    109\u001b[0m     data_label[k \u001b[39m*\u001b[39m m : (k \u001b[39m+\u001b[39m \u001b[39m1\u001b[39m) \u001b[39m*\u001b[39m m, :, :] \u001b[39m=\u001b[39m patches_label\u001b[39m.\u001b[39mreshape(\n\u001b[1;32m    110\u001b[0m         \u001b[39m-\u001b[39m\u001b[39m1\u001b[39m, img_size, img_size\n\u001b[1;32m    111\u001b[0m     )\n\u001b[1;32m    113\u001b[0m data_label \u001b[39m=\u001b[39m np\u001b[39m.\u001b[39mexpand_dims(data_label, axis\u001b[39m=\u001b[39m\u001b[39m-\u001b[39m\u001b[39m1\u001b[39m)\n",
      "\u001b[0;31mValueError\u001b[0m: could not broadcast input array from shape (72,256,256,3) into shape (81,256,256,3)"
     ]
    }
   ],
   "source": [
    "X_train, y_train, X_test, y_test = utils.prep_data(\"data/WA_Kivalina_01_20219703/20cm/Ortho\", include_nir=False, add_ndvi=False, squash=True)"
   ]
  }
 ],
 "metadata": {
  "kernelspec": {
   "display_name": "rsiv",
   "language": "python",
   "name": "python3"
  },
  "language_info": {
   "codemirror_mode": {
    "name": "ipython",
    "version": 3
   },
   "file_extension": ".py",
   "mimetype": "text/x-python",
   "name": "python",
   "nbconvert_exporter": "python",
   "pygments_lexer": "ipython3",
   "version": "3.9.13"
  },
  "orig_nbformat": 4,
  "vscode": {
   "interpreter": {
    "hash": "71e688b954d902b4a55caabd51fbe36bd50a20d472e1a85360af90ed004984c7"
   }
  }
 },
 "nbformat": 4,
 "nbformat_minor": 2
}
