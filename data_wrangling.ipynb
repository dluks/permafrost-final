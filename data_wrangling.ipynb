{
 "cells": [
  {
   "attachments": {},
   "cell_type": "markdown",
   "metadata": {},
   "source": [
    "# Data wrangling scripts"
   ]
  },
  {
   "attachments": {},
   "cell_type": "markdown",
   "metadata": {},
   "source": [
    "## Imports and function definitions"
   ]
  },
  {
   "cell_type": "code",
   "execution_count": 1,
   "metadata": {},
   "outputs": [],
   "source": [
    "import os\n",
    "import rasterio as rio\n",
    "from rasterio.enums import Resampling\n",
    "import matplotlib.pyplot as plt\n",
    "import numpy as np\n",
    "import glob\n",
    "import shutil\n",
    "import utils\n",
    "import tifffile as tiff\n",
    "\n",
    "%load_ext autoreload\n",
    "%autoreload 2\n",
    "\n",
    "def rescale_and_save(in_fn):\n",
    "    fn = in_fn.replace(\"10cm\", \"20cm\")\n",
    "    out_fn_rgb = fn.replace(\".tif\", \"_rgb.tif\")\n",
    "    out_fn_nir = fn.replace(\".tif\", \"_nir.tif\")\n",
    "    \n",
    "    if not os.path.exists(fn.split(\"/Ortho\")[0]):\n",
    "        os.makedirs(os.path.join(fn.split(\"/Ortho\")[0], \"Ortho\"))\n",
    "        \n",
    "    r =  rio.open(in_fn)\n",
    "    downscale_factor = 0.5\n",
    "    r_arr = r.read(\n",
    "        out_shape=(\n",
    "                r.count,\n",
    "                int(r.height * downscale_factor),\n",
    "                int(r.width * downscale_factor)\n",
    "            ),\n",
    "            resampling=Resampling.bilinear\n",
    "    )\n",
    "\n",
    "\n",
    "    type(r_arr)\n",
    "    # r_arr = np.moveaxis(r_arr, 0, -1)\n",
    "\n",
    "    for i in range(4):\n",
    "        max = r_arr[i].max()\n",
    "        r_arr[i] = (r_arr[i] / max) * 255\n",
    "    # r_arr = np.flip(r_arr[0:3, ...], axis=0)\n",
    "    R = r_arr[2].copy()\n",
    "    G = r_arr[1]\n",
    "    B = r_arr[0].copy()\n",
    "\n",
    "    r_arr[0] = R\n",
    "    r_arr[2] = B\n",
    "\n",
    "    # scale image transform\n",
    "    transform = r.transform * r.transform.scale(\n",
    "        (r.width / r_arr.shape[-1]),\n",
    "        (r.height / r_arr.shape[-2])\n",
    "    )\n",
    "\n",
    "    rgb_profile = r.profile.copy()\n",
    "    rgb_profile.update(\n",
    "        driver=\"GTiff\",\n",
    "        height=r_arr.shape[1],\n",
    "        width=r_arr.shape[2],\n",
    "        dtype=r_arr.dtype,\n",
    "        count=3,\n",
    "        transform=transform\n",
    "    )\n",
    "\n",
    "    nir_profile = rgb_profile.copy()\n",
    "    nir_profile.update(\n",
    "        count=1\n",
    "    )\n",
    "\n",
    "    new_rgb = rio.open(\n",
    "        out_fn_rgb,\n",
    "        'w',\n",
    "        **rgb_profile\n",
    "    )\n",
    "    new_nir = rio.open(\n",
    "        out_fn_nir,\n",
    "        'w',\n",
    "        **nir_profile\n",
    "    )\n",
    "    new_rgb.write(r_arr[0:3])\n",
    "    new_nir.write(np.expand_dims(r_arr[3], 0))"
   ]
  },
  {
   "attachments": {},
   "cell_type": "markdown",
   "metadata": {},
   "source": [
    "## Downsample 10 cm files to 20 cm with radiometric rescaling and save"
   ]
  },
  {
   "cell_type": "code",
   "execution_count": null,
   "metadata": {},
   "outputs": [],
   "source": [
    "RESCALE = False\n",
    "\n",
    "if RESCALE:\n",
    "    dirs = glob.glob(\"data/*10cm\")\n",
    "    for dir in dirs[1:]:\n",
    "        fns = glob.glob(os.path.join(dir, \"Ortho/*.tif\"))\n",
    "        for fn in fns:\n",
    "            rescale_and_save(fn)"
   ]
  },
  {
   "attachments": {},
   "cell_type": "markdown",
   "metadata": {},
   "source": [
    "## Reorganize files\n",
    "\n",
    "Desired file structure:\n",
    "- {location}\n",
    "    - {resolution}\n",
    "        - Ortho\n",
    "            - {tilename}\n",
    "                - rgb\n",
    "                    - {tilename}_rgb.tif\n",
    "                - cir\n",
    "                    - {tilename}_cir.tif\n",
    "                - labels\n",
    "                    - {tilename}_labels.tif"
   ]
  },
  {
   "cell_type": "code",
   "execution_count": 6,
   "metadata": {},
   "outputs": [
    {
     "name": "stdout",
     "output_type": "stream",
     "text": [
      "data/WA_Shishmaref_01_20210628/20cm/Ortho/WA_Shishmaref_01_20210628_20cm_Ortho_10_2_labels.tif\n",
      "data/WA_Shishmaref_01_20210628/20cm/Ortho/WA_Shishmaref_01_20210628_20cm_Ortho_10_3_labels.tif\n",
      "data/WA_Shishmaref_01_20210628/20cm/Ortho/WA_Shishmaref_01_20210628_20cm_Ortho_10_4_labels.tif\n",
      "data/WA_Shishmaref_01_20210628/20cm/Ortho/WA_Shishmaref_01_20210628_20cm_Ortho_10_5_labels.tif\n",
      "data/WA_Shishmaref_01_20210628/20cm/Ortho/WA_Shishmaref_01_20210628_20cm_Ortho_11_1_labels.tif\n",
      "data/WA_Shishmaref_01_20210628/20cm/Ortho/WA_Shishmaref_01_20210628_20cm_Ortho_11_2_labels.tif\n",
      "data/WA_Shishmaref_01_20210628/20cm/Ortho/WA_Shishmaref_01_20210628_20cm_Ortho_11_3_labels.tif\n",
      "data/WA_Shishmaref_01_20210628/20cm/Ortho/WA_Shishmaref_01_20210628_20cm_Ortho_11_4_labels.tif\n",
      "data/WA_Shishmaref_01_20210628/20cm/Ortho/WA_Shishmaref_01_20210628_20cm_Ortho_11_5_labels.tif\n",
      "data/WA_Shishmaref_01_20210628/20cm/Ortho/WA_Shishmaref_01_20210628_20cm_Ortho_12_1_labels.tif\n",
      "data/WA_Shishmaref_01_20210628/20cm/Ortho/WA_Shishmaref_01_20210628_20cm_Ortho_12_2_labels.tif\n",
      "data/WA_Shishmaref_01_20210628/20cm/Ortho/WA_Shishmaref_01_20210628_20cm_Ortho_12_3_labels.tif\n",
      "data/WA_Shishmaref_01_20210628/20cm/Ortho/WA_Shishmaref_01_20210628_20cm_Ortho_12_4_labels.tif\n",
      "data/WA_Shishmaref_01_20210628/20cm/Ortho/WA_Shishmaref_01_20210628_20cm_Ortho_13_1_labels.tif\n",
      "data/WA_Shishmaref_01_20210628/20cm/Ortho/WA_Shishmaref_01_20210628_20cm_Ortho_13_2_labels.tif\n",
      "data/WA_Shishmaref_01_20210628/20cm/Ortho/WA_Shishmaref_01_20210628_20cm_Ortho_13_3_labels.tif\n",
      "data/WA_Shishmaref_01_20210628/20cm/Ortho/WA_Shishmaref_01_20210628_20cm_Ortho_13_4_labels.tif\n",
      "data/WA_Shishmaref_01_20210628/20cm/Ortho/WA_Shishmaref_01_20210628_20cm_Ortho_14_2_labels.tif\n",
      "data/WA_Shishmaref_01_20210628/20cm/Ortho/WA_Shishmaref_01_20210628_20cm_Ortho_14_3_labels.tif\n",
      "data/WA_Shishmaref_01_20210628/20cm/Ortho/WA_Shishmaref_01_20210628_20cm_Ortho_1_8_labels.tif\n",
      "data/WA_Shishmaref_01_20210628/20cm/Ortho/WA_Shishmaref_01_20210628_20cm_Ortho_1_9_labels.tif\n",
      "data/WA_Shishmaref_01_20210628/20cm/Ortho/WA_Shishmaref_01_20210628_20cm_Ortho_2_10_labels.tif\n",
      "data/WA_Shishmaref_01_20210628/20cm/Ortho/WA_Shishmaref_01_20210628_20cm_Ortho_2_7_labels.tif\n",
      "data/WA_Shishmaref_01_20210628/20cm/Ortho/WA_Shishmaref_01_20210628_20cm_Ortho_2_8_labels.tif\n",
      "data/WA_Shishmaref_01_20210628/20cm/Ortho/WA_Shishmaref_01_20210628_20cm_Ortho_2_9_labels.tif\n",
      "data/WA_Shishmaref_01_20210628/20cm/Ortho/WA_Shishmaref_01_20210628_20cm_Ortho_3_6_labels.tif\n",
      "data/WA_Shishmaref_01_20210628/20cm/Ortho/WA_Shishmaref_01_20210628_20cm_Ortho_3_7_labels.tif\n",
      "data/WA_Shishmaref_01_20210628/20cm/Ortho/WA_Shishmaref_01_20210628_20cm_Ortho_3_8_labels.tif\n",
      "data/WA_Shishmaref_01_20210628/20cm/Ortho/WA_Shishmaref_01_20210628_20cm_Ortho_3_9_labels.tif\n",
      "data/WA_Shishmaref_01_20210628/20cm/Ortho/WA_Shishmaref_01_20210628_20cm_Ortho_4_6_labels.tif\n",
      "data/WA_Shishmaref_01_20210628/20cm/Ortho/WA_Shishmaref_01_20210628_20cm_Ortho_4_7_labels.tif\n",
      "data/WA_Shishmaref_01_20210628/20cm/Ortho/WA_Shishmaref_01_20210628_20cm_Ortho_4_8_labels.tif\n",
      "data/WA_Shishmaref_01_20210628/20cm/Ortho/WA_Shishmaref_01_20210628_20cm_Ortho_4_9_labels.tif\n",
      "data/WA_Shishmaref_01_20210628/20cm/Ortho/WA_Shishmaref_01_20210628_20cm_Ortho_5_5_labels.tif\n",
      "data/WA_Shishmaref_01_20210628/20cm/Ortho/WA_Shishmaref_01_20210628_20cm_Ortho_5_6_labels.tif\n",
      "data/WA_Shishmaref_01_20210628/20cm/Ortho/WA_Shishmaref_01_20210628_20cm_Ortho_5_7_labels.tif\n",
      "data/WA_Shishmaref_01_20210628/20cm/Ortho/WA_Shishmaref_01_20210628_20cm_Ortho_6_5_labels.tif\n",
      "data/WA_Shishmaref_01_20210628/20cm/Ortho/WA_Shishmaref_01_20210628_20cm_Ortho_6_6_labels.tif\n",
      "data/WA_Shishmaref_01_20210628/20cm/Ortho/WA_Shishmaref_01_20210628_20cm_Ortho_6_7_labels.tif\n",
      "data/WA_Shishmaref_01_20210628/20cm/Ortho/WA_Shishmaref_01_20210628_20cm_Ortho_7_4_labels.tif\n",
      "data/WA_Shishmaref_01_20210628/20cm/Ortho/WA_Shishmaref_01_20210628_20cm_Ortho_7_5_labels.tif\n",
      "data/WA_Shishmaref_01_20210628/20cm/Ortho/WA_Shishmaref_01_20210628_20cm_Ortho_7_6_labels.tif\n",
      "data/WA_Shishmaref_01_20210628/20cm/Ortho/WA_Shishmaref_01_20210628_20cm_Ortho_8_4_labels.tif\n",
      "data/WA_Shishmaref_01_20210628/20cm/Ortho/WA_Shishmaref_01_20210628_20cm_Ortho_8_5_labels.tif\n",
      "data/WA_Shishmaref_01_20210628/20cm/Ortho/WA_Shishmaref_01_20210628_20cm_Ortho_8_6_labels.tif\n",
      "data/WA_Shishmaref_01_20210628/20cm/Ortho/WA_Shishmaref_01_20210628_20cm_Ortho_9_3_labels.tif\n",
      "data/WA_Shishmaref_01_20210628/20cm/Ortho/WA_Shishmaref_01_20210628_20cm_Ortho_9_4_labels.tif\n",
      "data/WA_Shishmaref_01_20210628/20cm/Ortho/WA_Shishmaref_01_20210628_20cm_Ortho_9_5_labels.tif\n",
      "data/WA_Shishmaref_01_20210628/20cm/Ortho/WA_Shishmaref_01_20210628_20cm_Ortho_9_6_labels.tif\n"
     ]
    }
   ],
   "source": [
    "REORGANIZE = False\n",
    "\n",
    "if REORGANIZE:\n",
    "\n",
    "    DATA_DIR = \"data\"\n",
    "    IM_DIRS = [\"rgb\", \"nir\", \"labels\"]\n",
    "    dirs = glob.glob(f\"data/WA_Shishmaref_01_20210628/\")\n",
    "    tilenames = []\n",
    "\n",
    "    for dir in dirs:\n",
    "        dir = os.path.join(dir, \"20cm/Ortho\")\n",
    "        files = glob.glob(f\"{dir}/*.tif\")\n",
    "        \n",
    "        for file in files:\n",
    "            # Get the tilename\n",
    "            tilename = os.path.basename(file).rsplit(\"_\", 1)[0]\n",
    "            tile_dir = os.path.join(dir, tilename)\n",
    "\n",
    "            if not os.path.exists(tile_dir):\n",
    "                # Create the tile directory and subdirectories\n",
    "                # shutil.rmtree(tile_dir)\n",
    "                os.mkdir(tile_dir)\n",
    "                for im_dir in IM_DIRS:\n",
    "                    os.mkdir(os.path.join(tile_dir, im_dir))\n",
    "            \n",
    "            for im_dir in IM_DIRS:\n",
    "                if file.endswith(f\"{im_dir}.tif\"):\n",
    "                    shutil.move(file, os.path.join(tile_dir, im_dir))\n",
    "        "
   ]
  },
  {
   "attachments": {},
   "cell_type": "markdown",
   "metadata": {},
   "source": [
    "## Sandbox for aggregating and patchifying\n"
   ]
  },
  {
   "cell_type": "code",
   "execution_count": 8,
   "metadata": {},
   "outputs": [],
   "source": [
    "data_dir = \"data/WA_Kotzebue_01_20210625/20cm/Ortho\"\n",
    "dirs = glob.glob(f\"{data_dir}/*\")\n",
    "IM_DIRS = [\"rgb\", \"nir\", \"labels\"]\n",
    "rgb_fns, nir_fns, label_fns = [], [], []\n",
    "\n",
    "for dir in dirs:\n",
    "    rgb = glob.glob(f\"{dir}/rgb/*.tif\")[0]\n",
    "    nir = glob.glob(f\"{dir}/nir/*.tif\")[0]\n",
    "    labels = glob.glob(f\"{dir}/labels/*.tif\")[0]\n",
    "    rgb_fns.append(rgb)\n",
    "    nir_fns.append(nir)\n",
    "    label_fns.append(labels)"
   ]
  },
  {
   "cell_type": "code",
   "execution_count": null,
   "metadata": {},
   "outputs": [],
   "source": [
    "for f in rgb_fns:\n",
    "    im = tiff.imread(f)\n",
    "    print(im.shape)"
   ]
  },
  {
   "cell_type": "code",
   "execution_count": 45,
   "metadata": {},
   "outputs": [],
   "source": [
    "k = 0\n",
    "rgb_im = tiff.imread(rgb_fns[k])\n",
    "# nir_im = np.expand_dims(tiff.imread(nir_fns[k]), -1)\n",
    "r = np.dstack((rgb_im, nir_im))"
   ]
  },
  {
   "cell_type": "code",
   "execution_count": 64,
   "metadata": {},
   "outputs": [
    {
     "data": {
      "text/plain": [
       "array([[  0,   0,   0, ...,   0,   0,   0],\n",
       "       [  0,   0,   0, ...,   0,   0,   0],\n",
       "       [  0,   0,   0, ...,   0,   0,   0],\n",
       "       ...,\n",
       "       [  0,   0,   0, ..., 150, 152, 152],\n",
       "       [  0,   0,   0, ..., 145, 149, 151],\n",
       "       [  0,   0,   0, ..., 143, 147, 149]], dtype=uint16)"
      ]
     },
     "execution_count": 64,
     "metadata": {},
     "output_type": "execute_result"
    }
   ],
   "source": [
    "# Allow division by zero\n",
    "np.seterr(divide=\"ignore\", invalid=\"ignore\")\n",
    "r = r.astype(np.float64)\n",
    "ndvi = (r[..., -1] - r[..., 0]) / (r[..., -1] + r[..., 0])\n",
    "ndvi[np.isnan(ndvi)] = -1\n",
    "ndvi = (((ndvi - ndvi.min()) / (ndvi.max() - ndvi.min())) * 255).astype(np.uint16)\n",
    "ndvi\n"
   ]
  },
  {
   "cell_type": "code",
   "execution_count": 48,
   "metadata": {},
   "outputs": [],
   "source": [
    "labels = tiff.imread(label_fns[k])"
   ]
  },
  {
   "cell_type": "code",
   "execution_count": 30,
   "metadata": {},
   "outputs": [
    {
     "name": "stdout",
     "output_type": "stream",
     "text": [
      "Number of directories: 23\n",
      "bad ims length: 2\n",
      "m: 16\n",
      "Cull rows: -32\n",
      "Shape before: (368, 512, 512, 3)\n",
      "Shape after: (336, 512, 512, 3)\n",
      "\n",
      "Patched data sizes:\n",
      "data_train: (336, 512, 512, 3)\n",
      "data_label: (336, 512, 512, 1)\n",
      "\n",
      "Dataset sizes:\n",
      "    X_train: (225, 512, 512, 3)\n",
      "    y_train: (225, 512, 512, 1)\n",
      "    X_test: (111, 512, 512, 3)\n",
      "    y_test: (111, 512, 512, 1)\n",
      "Number of directories: 45\n",
      "bad ims length: 4\n",
      "m: 16\n",
      "Cull rows: -64\n",
      "Shape before: (720, 512, 512, 3)\n",
      "Shape after: (656, 512, 512, 3)\n",
      "\n",
      "Patched data sizes:\n",
      "data_train: (656, 512, 512, 3)\n",
      "data_label: (656, 512, 512, 1)\n",
      "\n",
      "Dataset sizes:\n",
      "    X_train: (439, 512, 512, 3)\n",
      "    y_train: (439, 512, 512, 1)\n",
      "    X_test: (217, 512, 512, 3)\n",
      "    y_test: (217, 512, 512, 1)\n",
      "Number of directories: 49\n",
      "bad ims length: 3\n",
      "m: 16\n",
      "Cull rows: -48\n",
      "Shape before: (784, 512, 512, 3)\n",
      "Shape after: (736, 512, 512, 3)\n",
      "\n",
      "Patched data sizes:\n",
      "data_train: (736, 512, 512, 3)\n",
      "data_label: (736, 512, 512, 1)\n",
      "\n",
      "Dataset sizes:\n",
      "    X_train: (493, 512, 512, 3)\n",
      "    y_train: (493, 512, 512, 1)\n",
      "    X_test: (243, 512, 512, 3)\n",
      "    y_test: (243, 512, 512, 1)\n",
      "X_train: (1157, 512, 512, 3)\n",
      "y_train: (1157, 512, 512, 1)\n",
      "X_test: (571, 512, 512, 3)\n",
      "y_test: (571, 512, 512, 1)\n"
     ]
    }
   ],
   "source": [
    "def concat_train_test(X_train, y_train, X_test, y_test, X_train_add, y_train_add, X_test_add, y_test_add):\n",
    "    X_train = np.concatenate((X_train, X_train_add), axis=0)\n",
    "    y_train = np.concatenate((y_train, y_train_add), axis=0)\n",
    "    X_test = np.concatenate((X_test, X_test_add), axis=0)\n",
    "    y_test = np.concatenate((y_test, y_test_add), axis=0)\n",
    "    return X_train, y_train, X_test, y_test\n",
    "\n",
    "\n",
    "X_train, y_train, X_test, y_test = utils.prep_data(\n",
    "    \"data/WA_Kivalina_01_20219703/20cm/Ortho\",\n",
    "    include_nir=False,\n",
    "    add_ndvi=False,\n",
    "    squash=True,\n",
    "    img_size_override=2500,\n",
    ")\n",
    "\n",
    "X_train_add, y_train_add, X_test_add, y_test_add = utils.prep_data(\n",
    "    \"data/WA_Kotzebue_01_20210625/20cm/Ortho\",\n",
    "    include_nir=False,\n",
    "    add_ndvi=False,\n",
    "    squash=True,\n",
    "    img_size_override=2500,\n",
    ")\n",
    "\n",
    "X_train, y_train, X_test, y_test = concat_train_test(\n",
    "    X_train, y_train, X_test, y_test, X_train_add, y_train_add, X_test_add, y_test_add\n",
    ")\n",
    "\n",
    "X_train_add, y_train_add, X_test_add, y_test_add = utils.prep_data(\n",
    "    \"data/WA_Shishmaref_01_20210628/20cm/Ortho\",\n",
    "    include_nir=False,\n",
    "    add_ndvi=False,\n",
    "    squash=True,\n",
    "    img_size_override=2500,\n",
    ")\n",
    "\n",
    "X_train, y_train, X_test, y_test = concat_train_test(\n",
    "    X_train, y_train, X_test, y_test, X_train_add, y_train_add, X_test_add, y_test_add\n",
    ")\n",
    "\n",
    "print(\"\\nFinal concatenated sizes:\\n\")\n",
    "print(\"-------------------------\\n\")\n",
    "print(\"X_train:\", X_train.shape)\n",
    "print(\"y_train:\", y_train.shape)\n",
    "print(\"X_test:\", X_test.shape)\n",
    "print(\"y_test:\", y_test.shape)"
   ]
  },
  {
   "cell_type": "code",
   "execution_count": 42,
   "metadata": {},
   "outputs": [
    {
     "data": {
      "text/plain": [
       "array([[[nan, nan, nan],\n",
       "        [nan, nan, nan],\n",
       "        [nan, nan, nan],\n",
       "        ...,\n",
       "        [nan, nan, nan],\n",
       "        [nan, nan, nan],\n",
       "        [nan, nan, nan]],\n",
       "\n",
       "       [[nan, nan, nan],\n",
       "        [nan, nan, nan],\n",
       "        [nan, nan, nan],\n",
       "        ...,\n",
       "        [nan, nan, nan],\n",
       "        [nan, nan, nan],\n",
       "        [nan, nan, nan]],\n",
       "\n",
       "       [[nan, nan, nan],\n",
       "        [nan, nan, nan],\n",
       "        [nan, nan, nan],\n",
       "        ...,\n",
       "        [nan, nan, nan],\n",
       "        [nan, nan, nan],\n",
       "        [nan, nan, nan]],\n",
       "\n",
       "       ...,\n",
       "\n",
       "       [[nan, nan, nan],\n",
       "        [nan, nan, nan],\n",
       "        [nan, nan, nan],\n",
       "        ...,\n",
       "        [nan, nan, nan],\n",
       "        [nan, nan, nan],\n",
       "        [nan, nan, nan]],\n",
       "\n",
       "       [[nan, nan, nan],\n",
       "        [nan, nan, nan],\n",
       "        [nan, nan, nan],\n",
       "        ...,\n",
       "        [nan, nan, nan],\n",
       "        [nan, nan, nan],\n",
       "        [nan, nan, nan]],\n",
       "\n",
       "       [[nan, nan, nan],\n",
       "        [nan, nan, nan],\n",
       "        [nan, nan, nan],\n",
       "        ...,\n",
       "        [nan, nan, nan],\n",
       "        [nan, nan, nan],\n",
       "        [nan, nan, nan]]])"
      ]
     },
     "execution_count": 42,
     "metadata": {},
     "output_type": "execute_result"
    }
   ],
   "source": [
    "X_train_tester = X_train[556].copy()\n",
    "X_train_tester[X_train_tester == 0] = np.nan\n",
    "X_train_tester"
   ]
  },
  {
   "cell_type": "code",
   "execution_count": 65,
   "metadata": {},
   "outputs": [
    {
     "name": "stdout",
     "output_type": "stream",
     "text": [
      "xmin: 0.0\n"
     ]
    },
    {
     "data": {
      "text/plain": [
       "Text(0.5, 1.0, 'tile 86')"
      ]
     },
     "execution_count": 65,
     "metadata": {},
     "output_type": "execute_result"
    },
    {
     "data": {
      "image/png": "[encoded data removed]",
      "text/plain": [
       "<Figure size 640x480 with 2 Axes>"
      ]
     },
     "metadata": {},
     "output_type": "display_data"
    }
   ],
   "source": [
    "_, (ax0, ax1) = plt.subplots(1, 2)\n",
    "k = np.random.randint(0, X_train.shape[0] - 1)\n",
    "k = 86\n",
    "x = X_train[k]\n",
    "y = y_train[k]\n",
    "print(\"xmin:\", x.min())\n",
    "idx = x[x==0].astype(np.uint8)\n",
    "x[idx] = np.nan\n",
    "y[idx] = np.nan\n",
    "ax0.imshow(x)\n",
    "ax1.imshow(y)\n",
    "plt.title(f\"tile {k}\")"
   ]
  },
  {
   "cell_type": "code",
   "execution_count": null,
   "metadata": {},
   "outputs": [],
   "source": []
  }
 ],
 "metadata": {
  "kernelspec": {
   "display_name": "rsiv",
   "language": "python",
   "name": "python3"
  },
  "language_info": {
   "codemirror_mode": {
    "name": "ipython",
    "version": 3
   },
   "file_extension": ".py",
   "mimetype": "text/x-python",
   "name": "python",
   "nbconvert_exporter": "python",
   "pygments_lexer": "ipython3",
   "version": "3.9.13"
  },
  "orig_nbformat": 4,
  "vscode": {
   "interpreter": {
    "hash": "71e688b954d902b4a55caabd51fbe36bd50a20d472e1a85360af90ed004984c7"
   }
  }
 },
 "nbformat": 4,
 "nbformat_minor": 2
}
